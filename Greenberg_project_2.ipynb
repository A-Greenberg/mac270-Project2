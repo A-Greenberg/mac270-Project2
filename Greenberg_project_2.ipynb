{
 "cells": [
  {
   "cell_type": "markdown",
   "metadata": {},
   "source": [
    "# Alon Greenberg"
   ]
  },
  {
   "cell_type": "code",
   "execution_count": 1,
   "metadata": {},
   "outputs": [],
   "source": [
    "import numpy as np\n",
    "import pandas as pd\n",
    "import matplotlib.pyplot as plt\n",
    "import seaborn as sns"
   ]
  },
  {
   "cell_type": "code",
   "execution_count": 2,
   "metadata": {},
   "outputs": [
    {
     "name": "stderr",
     "output_type": "stream",
     "text": [
      "C:\\Users\\green\\Anaconda3\\lib\\site-packages\\IPython\\core\\interactiveshell.py:3020: DtypeWarning: Columns (6,9,31,1608,1619,1620,1621,1622,1623,1624,1625,1626,1627,1628,1629,1688,1689,1690,1691,1692,1703,1704,1725,1726,1727,1728,1729,1743,1815,1816,1817,1818,1823,1824,1830,1831,1879,1880,1881,1882,1883,1884,1885,1886,1887,1888,1889,1890,1891,1892,1893,1894,1895,1896,1897,1898,1909,1910,1911,1912,1913,1957,1958,1959,1960,1961,1962,1963,1964,1965,1966,1967,1968,1969,1970,1971,1972,1973,1974,1975,1976) have mixed types. Specify dtype option on import or set low_memory=False.\n",
      "  interactivity=interactivity, compiler=compiler, result=result)\n"
     ]
    }
   ],
   "source": [
    "df = pd.read_csv('SCORECARD.csv')"
   ]
  },
  {
   "cell_type": "code",
   "execution_count": 3,
   "metadata": {},
   "outputs": [],
   "source": [
    "# DataDocumentation\n",
    "# https://collegescorecard.ed.gov/assets/FullDataDocumentation.pdf\n",
    "# MostRecent csv"
   ]
  },
  {
   "cell_type": "code",
   "execution_count": 4,
   "metadata": {},
   "outputs": [
    {
     "data": {
      "text/plain": [
       "(7058, 1977)"
      ]
     },
     "execution_count": 4,
     "metadata": {},
     "output_type": "execute_result"
    }
   ],
   "source": [
    "df.shape"
   ]
  },
  {
   "cell_type": "markdown",
   "metadata": {},
   "source": [
    "# 1.1. What is the most costly college? "
   ]
  },
  {
   "cell_type": "code",
   "execution_count": 5,
   "metadata": {},
   "outputs": [],
   "source": [
    "# Combine annual cost and program cost to have one column for all institues tutuion\n",
    "df['COST'] = df['COSTT4_A']\n",
    "df['COST'] = df['COST'].fillna(df['COSTT4_P'])"
   ]
  },
  {
   "cell_type": "code",
   "execution_count": 6,
   "metadata": {},
   "outputs": [
    {
     "name": "stdout",
     "output_type": "stream",
     "text": [
      "The most expensive school is\n",
      "L3 Commercial Training Solutions Airline Academy\n",
      "For the cost of:\n",
      "105745.0\n"
     ]
    }
   ],
   "source": [
    "print ('The most expensive school is')\n",
    "print (df.loc[df['COST'].idxmax()].INSTNM)\n",
    "print ('For the cost of:')\n",
    "print (df.loc[df['COST'].idxmax()].COST)"
   ]
  },
  {
   "cell_type": "markdown",
   "metadata": {},
   "source": [
    "# 1.2. What is the cheapest?"
   ]
  },
  {
   "cell_type": "code",
   "execution_count": 7,
   "metadata": {},
   "outputs": [
    {
     "name": "stdout",
     "output_type": "stream",
     "text": [
      "The most expensive annual tution school is\n",
      "Purdue University Northwest\n",
      "For the cost of:\n",
      "0.0\n"
     ]
    }
   ],
   "source": [
    "print ('The most expensive annual tution school is')\n",
    "print (df.loc[df['COST'].idxmin()].INSTNM)\n",
    "print ('For the cost of:')\n",
    "print (df.loc[df['COST'].idxmin()].COST)"
   ]
  },
  {
   "cell_type": "code",
   "execution_count": 8,
   "metadata": {},
   "outputs": [],
   "source": [
    "# check if there is any other school where the tuition is 0$"
   ]
  },
  {
   "cell_type": "code",
   "execution_count": 9,
   "metadata": {},
   "outputs": [
    {
     "data": {
      "text/html": [
       "<div>\n",
       "<style scoped>\n",
       "    .dataframe tbody tr th:only-of-type {\n",
       "        vertical-align: middle;\n",
       "    }\n",
       "\n",
       "    .dataframe tbody tr th {\n",
       "        vertical-align: top;\n",
       "    }\n",
       "\n",
       "    .dataframe thead th {\n",
       "        text-align: right;\n",
       "    }\n",
       "</style>\n",
       "<table border=\"1\" class=\"dataframe\">\n",
       "  <thead>\n",
       "    <tr style=\"text-align: right;\">\n",
       "      <th></th>\n",
       "      <th>UNITID</th>\n",
       "      <th>OPEID</th>\n",
       "      <th>OPEID6</th>\n",
       "      <th>INSTNM</th>\n",
       "      <th>CITY</th>\n",
       "      <th>STABBR</th>\n",
       "      <th>ZIP</th>\n",
       "      <th>ACCREDAGENCY</th>\n",
       "      <th>INSTURL</th>\n",
       "      <th>NPCURL</th>\n",
       "      <th>...</th>\n",
       "      <th>OMENRUP_NOTFIRSTTIME_POOLED_SUPP</th>\n",
       "      <th>OMENRYP_FULLTIME_POOLED_SUPP</th>\n",
       "      <th>OMENRAP_FULLTIME_POOLED_SUPP</th>\n",
       "      <th>OMAWDP8_FULLTIME_POOLED_SUPP</th>\n",
       "      <th>OMENRUP_FULLTIME_POOLED_SUPP</th>\n",
       "      <th>OMENRYP_PARTTIME_POOLED_SUPP</th>\n",
       "      <th>OMENRAP_PARTTIME_POOLED_SUPP</th>\n",
       "      <th>OMAWDP8_PARTTIME_POOLED_SUPP</th>\n",
       "      <th>OMENRUP_PARTTIME_POOLED_SUPP</th>\n",
       "      <th>COST</th>\n",
       "    </tr>\n",
       "  </thead>\n",
       "  <tbody>\n",
       "    <tr>\n",
       "      <th>6589</th>\n",
       "      <td>490805</td>\n",
       "      <td>182700</td>\n",
       "      <td>1827</td>\n",
       "      <td>Purdue University Northwest</td>\n",
       "      <td>Hammond</td>\n",
       "      <td>IN</td>\n",
       "      <td>46323</td>\n",
       "      <td>Higher Learning Commission</td>\n",
       "      <td>www.pnw.edu</td>\n",
       "      <td>admissions.pnw.edu/financial-aid/net-price-cal...</td>\n",
       "      <td>...</td>\n",
       "      <td>0.2533</td>\n",
       "      <td>0.018</td>\n",
       "      <td>0.3599</td>\n",
       "      <td>0.3677</td>\n",
       "      <td>0.2544</td>\n",
       "      <td>0.019</td>\n",
       "      <td>0.3776</td>\n",
       "      <td>0.2318</td>\n",
       "      <td>0.3717</td>\n",
       "      <td>0.0</td>\n",
       "    </tr>\n",
       "  </tbody>\n",
       "</table>\n",
       "<p>1 rows × 1978 columns</p>\n",
       "</div>"
      ],
      "text/plain": [
       "      UNITID   OPEID  OPEID6                       INSTNM     CITY STABBR  \\\n",
       "6589  490805  182700    1827  Purdue University Northwest  Hammond     IN   \n",
       "\n",
       "        ZIP                ACCREDAGENCY      INSTURL  \\\n",
       "6589  46323  Higher Learning Commission  www.pnw.edu   \n",
       "\n",
       "                                                 NPCURL  ...   \\\n",
       "6589  admissions.pnw.edu/financial-aid/net-price-cal...  ...    \n",
       "\n",
       "      OMENRUP_NOTFIRSTTIME_POOLED_SUPP  OMENRYP_FULLTIME_POOLED_SUPP  \\\n",
       "6589                            0.2533                         0.018   \n",
       "\n",
       "      OMENRAP_FULLTIME_POOLED_SUPP  OMAWDP8_FULLTIME_POOLED_SUPP  \\\n",
       "6589                        0.3599                        0.3677   \n",
       "\n",
       "      OMENRUP_FULLTIME_POOLED_SUPP  OMENRYP_PARTTIME_POOLED_SUPP  \\\n",
       "6589                        0.2544                         0.019   \n",
       "\n",
       "      OMENRAP_PARTTIME_POOLED_SUPP  OMAWDP8_PARTTIME_POOLED_SUPP  \\\n",
       "6589                        0.3776                        0.2318   \n",
       "\n",
       "      OMENRUP_PARTTIME_POOLED_SUPP  COST  \n",
       "6589                        0.3717   0.0  \n",
       "\n",
       "[1 rows x 1978 columns]"
      ]
     },
     "execution_count": 9,
     "metadata": {},
     "output_type": "execute_result"
    }
   ],
   "source": [
    "df.loc[df['COST'] == 0.0]"
   ]
  },
  {
   "cell_type": "code",
   "execution_count": 10,
   "metadata": {},
   "outputs": [],
   "source": [
    "# Observation: There is only one school where tution = 0$."
   ]
  },
  {
   "cell_type": "markdown",
   "metadata": {},
   "source": [
    "# 2. What is the average cost for college for colleges in different parts of the US?"
   ]
  },
  {
   "cell_type": "code",
   "execution_count": 11,
   "metadata": {},
   "outputs": [],
   "source": [
    "tutionData = df.dropna(subset=['COST'])"
   ]
  },
  {
   "cell_type": "code",
   "execution_count": 12,
   "metadata": {},
   "outputs": [],
   "source": [
    "tutionData = round(tutionData.groupby(['STABBR'])['COST'].mean())"
   ]
  },
  {
   "cell_type": "code",
   "execution_count": 13,
   "metadata": {},
   "outputs": [
    {
     "name": "stdout",
     "output_type": "stream",
     "text": [
      "The avarge tutition for each state\n",
      "In descending order\n",
      "\n",
      "STABBR\n",
      "VT    39869.0\n",
      "DC    36921.0\n",
      "MA    35063.0\n",
      "RI    34898.0\n",
      "PA    29007.0\n",
      "NH    28653.0\n",
      "ME    28091.0\n",
      "NY    27910.0\n",
      "IN    26988.0\n",
      "CT    26631.0\n",
      "IA    25968.0\n",
      "MD    25329.0\n",
      "CA    25254.0\n",
      "VA    25170.0\n",
      "NJ    25149.0\n",
      "MN    24887.0\n",
      "WI    24553.0\n",
      "DE    24394.0\n",
      "NE    24390.0\n",
      "SC    24323.0\n",
      "OR    23797.0\n",
      "FL    23676.0\n",
      "GA    23428.0\n",
      "OH    23277.0\n",
      "IL    23245.0\n",
      "CO    23154.0\n",
      "NC    22907.0\n",
      "TN    22750.0\n",
      "MI    22736.0\n",
      "NV    22694.0\n",
      "MO    22621.0\n",
      "KY    22480.0\n",
      "WA    22177.0\n",
      "KS    21793.0\n",
      "TX    21573.0\n",
      "AZ    21327.0\n",
      "SD    21214.0\n",
      "LA    20874.0\n",
      "HI    20745.0\n",
      "AL    20662.0\n",
      "AK    20203.0\n",
      "UT    20058.0\n",
      "ID    19609.0\n",
      "MS    19143.0\n",
      "AR    18277.0\n",
      "WV    18102.0\n",
      "NM    18100.0\n",
      "OK    17511.0\n",
      "ND    17174.0\n",
      "MT    17120.0\n",
      "VI    16786.0\n",
      "WY    14714.0\n",
      "GU    12339.0\n",
      "PR    11653.0\n",
      "FM     9554.0\n",
      "MH     8750.0\n",
      "MP     8734.0\n",
      "AS     7400.0\n",
      "PW     6085.0\n",
      "Name: COST, dtype: float64\n"
     ]
    }
   ],
   "source": [
    "print ('The avarge tutition for each state')\n",
    "print ('In descending order')\n",
    "print  ('')\n",
    "print (tutionData.sort_values(ascending=False))"
   ]
  },
  {
   "cell_type": "markdown",
   "metadata": {},
   "source": [
    "# 3. What is the average cost for college for religious vs. secular institutions?"
   ]
  },
  {
   "cell_type": "code",
   "execution_count": 14,
   "metadata": {},
   "outputs": [],
   "source": [
    "# From the Data Dictionary:\n",
    "# -1\tNot reported (Which doesn't appear in the table)\n",
    "# All the other codes are specific religious affiliations\n",
    "# such as:\n",
    "#22\tAmerican Evangelical Lutheran Church\n",
    "#24\tAfrican Methodist Episcopal Zion Church\n",
    "\n",
    "# by that I can infer that NaN are secular"
   ]
  },
  {
   "cell_type": "code",
   "execution_count": 15,
   "metadata": {},
   "outputs": [
    {
     "name": "stdout",
     "output_type": "stream",
     "text": [
      "The avarage tutition for religious schools is:\n",
      "37389 $\n"
     ]
    }
   ],
   "source": [
    "# create new data frame for religious tuition\n",
    "# drop all rows where religious is NaN\n",
    "religiousTuition = df.dropna(subset=['RELAFFIL'])\n",
    "# calculate the avarage tutition for religious schools\n",
    "print ('The avarage tutition for religious schools is:')\n",
    "print (round(religiousTuition.COST.mean()),'$')"
   ]
  },
  {
   "cell_type": "code",
   "execution_count": 16,
   "metadata": {},
   "outputs": [
    {
     "name": "stdout",
     "output_type": "stream",
     "text": [
      "The avarage annual tutition for secular schools is:\n",
      "23869 $\n"
     ]
    }
   ],
   "source": [
    "# create new data frame for secular tuition\n",
    "# drop all rows where religious is NaN\n",
    "secularTuition = df.loc[pd.isnull(df).any(1),:]\n",
    "# calculate the avarage annual tutition for religious schools\n",
    "print ('The avarage annual tutition for secular schools is:')\n",
    "print (round(secularTuition.COST.mean()),'$')"
   ]
  },
  {
   "cell_type": "markdown",
   "metadata": {},
   "source": [
    "# 4. What percent of colleges have an open admission policy?"
   ]
  },
  {
   "cell_type": "code",
   "execution_count": 17,
   "metadata": {},
   "outputs": [
    {
     "name": "stdout",
     "output_type": "stream",
     "text": [
      "There are 4063 schools with open admission\n",
      "which make 58 % of all 7058 schools\n"
     ]
    }
   ],
   "source": [
    "# From the Data Dictionary:\n",
    "# Open admissions policy indicator:\n",
    "# 1\tYes\n",
    "# 2\tNo\n",
    "\n",
    "# create a data frame with only open addmission schools:\n",
    "\n",
    "# drop rows with NaN value\n",
    "openAdmission = df.dropna(subset=['OPENADMP'])\n",
    "#drop rows with non-open admision\n",
    "openAdmission = openAdmission[openAdmission.OPENADMP !=2]\n",
    "\n",
    "# calculate the percentage of open admission out of all schools\n",
    "print('There are', len(openAdmission), 'schools with open admission')\n",
    "print('which make', round((len(openAdmission))/(len(df))*100),\n",
    "      '% of all', len(df), 'schools')"
   ]
  },
  {
   "cell_type": "markdown",
   "metadata": {},
   "source": [
    "# 5. What is the correlation (scatterplot) between admission rates and college cost?"
   ]
  },
  {
   "cell_type": "code",
   "execution_count": 18,
   "metadata": {},
   "outputs": [],
   "source": [
    "# Since there are annual costs or program costs there are two scatter plots:"
   ]
  },
  {
   "cell_type": "code",
   "execution_count": 19,
   "metadata": {},
   "outputs": [],
   "source": [
    "# 5.1. Annual costs\n",
    "AdRt_COST = df[['ADM_RATE', 'COST']].copy()"
   ]
  },
  {
   "cell_type": "code",
   "execution_count": 20,
   "metadata": {},
   "outputs": [
    {
     "data": {
      "text/html": [
       "<div>\n",
       "<style scoped>\n",
       "    .dataframe tbody tr th:only-of-type {\n",
       "        vertical-align: middle;\n",
       "    }\n",
       "\n",
       "    .dataframe tbody tr th {\n",
       "        vertical-align: top;\n",
       "    }\n",
       "\n",
       "    .dataframe thead th {\n",
       "        text-align: right;\n",
       "    }\n",
       "</style>\n",
       "<table border=\"1\" class=\"dataframe\">\n",
       "  <thead>\n",
       "    <tr style=\"text-align: right;\">\n",
       "      <th></th>\n",
       "      <th>ADM_RATE</th>\n",
       "      <th>COST</th>\n",
       "    </tr>\n",
       "  </thead>\n",
       "  <tbody>\n",
       "    <tr>\n",
       "      <th>ADM_RATE</th>\n",
       "      <td>1.000000</td>\n",
       "      <td>-0.301969</td>\n",
       "    </tr>\n",
       "    <tr>\n",
       "      <th>COST</th>\n",
       "      <td>-0.301969</td>\n",
       "      <td>1.000000</td>\n",
       "    </tr>\n",
       "  </tbody>\n",
       "</table>\n",
       "</div>"
      ],
      "text/plain": [
       "          ADM_RATE      COST\n",
       "ADM_RATE  1.000000 -0.301969\n",
       "COST     -0.301969  1.000000"
      ]
     },
     "execution_count": 20,
     "metadata": {},
     "output_type": "execute_result"
    }
   ],
   "source": [
    "AdRt_COST.corr()"
   ]
  },
  {
   "cell_type": "code",
   "execution_count": 21,
   "metadata": {},
   "outputs": [],
   "source": [
    "# The correlation between Addmision rate and cost is -0.302"
   ]
  },
  {
   "cell_type": "code",
   "execution_count": 22,
   "metadata": {
    "scrolled": true
   },
   "outputs": [
    {
     "data": {
      "image/png": "[encoded data removed]",
      "text/plain": [
       "<Figure size 432x288 with 1 Axes>"
      ]
     },
     "metadata": {
      "needs_background": "light"
     },
     "output_type": "display_data"
    }
   ],
   "source": [
    "s = (4,2)\n",
    "plt.scatter(df.ADM_RATE*100, df.COST, s, color='r')\n",
    "plt.title(\"correlation between admission rates and college cost\")\n",
    "plt.xlabel(\"admission rates %\")\n",
    "plt.ylabel(\"college cost\")\n",
    "plt.show()"
   ]
  },
  {
   "cell_type": "markdown",
   "metadata": {},
   "source": [
    "# 6. What is the correlation between SAT scores and admission rates? Are there any outliers?"
   ]
  },
  {
   "cell_type": "code",
   "execution_count": 23,
   "metadata": {},
   "outputs": [],
   "source": [
    "AdRt_SATavg = df[['ADM_RATE', 'SAT_AVG']].copy()"
   ]
  },
  {
   "cell_type": "markdown",
   "metadata": {},
   "source": [
    "# 6.1 Correlation: SAT / Admission Rate"
   ]
  },
  {
   "cell_type": "code",
   "execution_count": 24,
   "metadata": {},
   "outputs": [
    {
     "data": {
      "text/html": [
       "<div>\n",
       "<style scoped>\n",
       "    .dataframe tbody tr th:only-of-type {\n",
       "        vertical-align: middle;\n",
       "    }\n",
       "\n",
       "    .dataframe tbody tr th {\n",
       "        vertical-align: top;\n",
       "    }\n",
       "\n",
       "    .dataframe thead th {\n",
       "        text-align: right;\n",
       "    }\n",
       "</style>\n",
       "<table border=\"1\" class=\"dataframe\">\n",
       "  <thead>\n",
       "    <tr style=\"text-align: right;\">\n",
       "      <th></th>\n",
       "      <th>ADM_RATE</th>\n",
       "      <th>SAT_AVG</th>\n",
       "    </tr>\n",
       "  </thead>\n",
       "  <tbody>\n",
       "    <tr>\n",
       "      <th>ADM_RATE</th>\n",
       "      <td>1.000000</td>\n",
       "      <td>-0.413266</td>\n",
       "    </tr>\n",
       "    <tr>\n",
       "      <th>SAT_AVG</th>\n",
       "      <td>-0.413266</td>\n",
       "      <td>1.000000</td>\n",
       "    </tr>\n",
       "  </tbody>\n",
       "</table>\n",
       "</div>"
      ],
      "text/plain": [
       "          ADM_RATE   SAT_AVG\n",
       "ADM_RATE  1.000000 -0.413266\n",
       "SAT_AVG  -0.413266  1.000000"
      ]
     },
     "execution_count": 24,
     "metadata": {},
     "output_type": "execute_result"
    }
   ],
   "source": [
    "AdRt_SATavg.corr()"
   ]
  },
  {
   "cell_type": "code",
   "execution_count": 25,
   "metadata": {},
   "outputs": [],
   "source": [
    "# The correlation between Addmision rate and SAT scores is -0.41"
   ]
  },
  {
   "cell_type": "markdown",
   "metadata": {},
   "source": [
    "# 6.2 Outliers"
   ]
  },
  {
   "cell_type": "code",
   "execution_count": 26,
   "metadata": {},
   "outputs": [
    {
     "data": {
      "text/plain": [
       "<matplotlib.axes._subplots.AxesSubplot at 0x21270f4fcf8>"
      ]
     },
     "execution_count": 26,
     "metadata": {},
     "output_type": "execute_result"
    },
    {
     "data": {
      "image/png": "[encoded data removed]",
      "text/plain": [
       "<Figure size 432x288 with 1 Axes>"
      ]
     },
     "metadata": {
      "needs_background": "light"
     },
     "output_type": "display_data"
    }
   ],
   "source": [
    "sns.boxplot(df.SAT_AVG)"
   ]
  },
  {
   "cell_type": "code",
   "execution_count": 27,
   "metadata": {},
   "outputs": [
    {
     "data": {
      "text/plain": [
       "825     564.0\n",
       "2513    822.0\n",
       "Name: SAT_AVG, dtype: float64"
      ]
     },
     "execution_count": 27,
     "metadata": {},
     "output_type": "execute_result"
    }
   ],
   "source": [
    "# Observation: There is one an outlier just below 600 \n",
    "df.SAT_AVG.sort_values(ascending=True).head(2)"
   ]
  },
  {
   "cell_type": "code",
   "execution_count": 28,
   "metadata": {},
   "outputs": [],
   "source": [
    "# Observation: There is one an outlier with sat avarage of 564"
   ]
  },
  {
   "cell_type": "code",
   "execution_count": 29,
   "metadata": {},
   "outputs": [
    {
     "data": {
      "text/plain": [
       "<matplotlib.axes._subplots.AxesSubplot at 0x212764a63c8>"
      ]
     },
     "execution_count": 29,
     "metadata": {},
     "output_type": "execute_result"
    },
    {
     "data": {
      "image/png": "[encoded data removed]",
      "text/plain": [
       "<Figure size 432x288 with 1 Axes>"
      ]
     },
     "metadata": {
      "needs_background": "light"
     },
     "output_type": "display_data"
    }
   ],
   "source": [
    "sns.boxplot(df.ADM_RATE)"
   ]
  },
  {
   "cell_type": "code",
   "execution_count": 30,
   "metadata": {},
   "outputs": [
    {
     "data": {
      "text/plain": [
       "6065    0.000\n",
       "5188    0.000\n",
       "2960    0.000\n",
       "6610    0.000\n",
       "2964    0.033\n",
       "Name: ADM_RATE, dtype: float64"
      ]
     },
     "execution_count": 30,
     "metadata": {},
     "output_type": "execute_result"
    }
   ],
   "source": [
    "# Observation: There are outliers close to 0.0\n",
    "df.ADM_RATE.sort_values(ascending=True).head(5)"
   ]
  },
  {
   "cell_type": "code",
   "execution_count": 31,
   "metadata": {},
   "outputs": [],
   "source": [
    "# Observation: There are 4 outliers with 0 admission rate"
   ]
  },
  {
   "cell_type": "markdown",
   "metadata": {},
   "source": [
    "# Xtra Credit\n",
    "# 7. What colleges have the highest and lowest family income averages? \n",
    "#     How does that correlate with college costs?"
   ]
  },
  {
   "cell_type": "code",
   "execution_count": 32,
   "metadata": {},
   "outputs": [],
   "source": [
    "# df['COST'] = df['COST'].fillna(df['COSTT4_P'])\n",
    "df['FAMINC'] = df['FAMINC'].replace('PrivacySuppressed', np.nan)\n",
    "df['FAMINC'] = df.FAMINC.astype(float)"
   ]
  },
  {
   "cell_type": "markdown",
   "metadata": {},
   "source": [
    "# 7.1. Max / Min Family Income"
   ]
  },
  {
   "cell_type": "code",
   "execution_count": 33,
   "metadata": {},
   "outputs": [
    {
     "name": "stdout",
     "output_type": "stream",
     "text": [
      "The maximal family income registred is:   174263.0 $\n",
      "Institution: Jewish Theological Seminary of America , NY\n"
     ]
    }
   ],
   "source": [
    "print('The maximal family income registred is:  ', round(df['FAMINC'].max()),'$')\n",
    "print('Institution:',df.iloc[df['FAMINC'].idxmax].INSTNM,',', df.iloc[df['FAMINC'].idxmax].STABBR)"
   ]
  },
  {
   "cell_type": "code",
   "execution_count": 34,
   "metadata": {},
   "outputs": [
    {
     "name": "stdout",
     "output_type": "stream",
     "text": [
      "The maximal family income registred is:   321.0 $\n",
      "Institution: J F Ingram State Technical College , AL\n"
     ]
    }
   ],
   "source": [
    "print('The maximal family income registred is:  ', round(df['FAMINC'].min()),'$')\n",
    "print('Institution:',df.iloc[df['FAMINC'].idxmin].INSTNM,',', df.iloc[df['FAMINC'].idxmin].STABBR)"
   ]
  },
  {
   "cell_type": "markdown",
   "metadata": {},
   "source": [
    "# 7.2 Correlation: Family Income / Tuition "
   ]
  },
  {
   "cell_type": "code",
   "execution_count": 35,
   "metadata": {},
   "outputs": [],
   "source": [
    "famIncm_Cost = df[['FAMINC', 'COST']].copy()"
   ]
  },
  {
   "cell_type": "code",
   "execution_count": 36,
   "metadata": {},
   "outputs": [
    {
     "data": {
      "text/html": [
       "<div>\n",
       "<style scoped>\n",
       "    .dataframe tbody tr th:only-of-type {\n",
       "        vertical-align: middle;\n",
       "    }\n",
       "\n",
       "    .dataframe tbody tr th {\n",
       "        vertical-align: top;\n",
       "    }\n",
       "\n",
       "    .dataframe thead th {\n",
       "        text-align: right;\n",
       "    }\n",
       "</style>\n",
       "<table border=\"1\" class=\"dataframe\">\n",
       "  <thead>\n",
       "    <tr style=\"text-align: right;\">\n",
       "      <th></th>\n",
       "      <th>FAMINC</th>\n",
       "      <th>COST</th>\n",
       "    </tr>\n",
       "  </thead>\n",
       "  <tbody>\n",
       "    <tr>\n",
       "      <th>FAMINC</th>\n",
       "      <td>1.0000</td>\n",
       "      <td>0.6758</td>\n",
       "    </tr>\n",
       "    <tr>\n",
       "      <th>COST</th>\n",
       "      <td>0.6758</td>\n",
       "      <td>1.0000</td>\n",
       "    </tr>\n",
       "  </tbody>\n",
       "</table>\n",
       "</div>"
      ],
      "text/plain": [
       "        FAMINC    COST\n",
       "FAMINC  1.0000  0.6758\n",
       "COST    0.6758  1.0000"
      ]
     },
     "execution_count": 36,
     "metadata": {},
     "output_type": "execute_result"
    }
   ],
   "source": [
    "famIncm_Cost.corr()"
   ]
  },
  {
   "cell_type": "code",
   "execution_count": 37,
   "metadata": {},
   "outputs": [],
   "source": [
    "#The correlation between a familys income and tuition cost is A moderate uphill (positive) relationship of 0.67"
   ]
  }
 ],
 "metadata": {
  "kernelspec": {
   "display_name": "Python 3",
   "language": "python",
   "name": "python3"
  },
  "language_info": {
   "codemirror_mode": {
    "name": "ipython",
    "version": 3
   },
   "file_extension": ".py",
   "mimetype": "text/x-python",
   "name": "python",
   "nbconvert_exporter": "python",
   "pygments_lexer": "ipython3",
   "version": "3.7.1"
  }
 },
 "nbformat": 4,
 "nbformat_minor": 2
}
